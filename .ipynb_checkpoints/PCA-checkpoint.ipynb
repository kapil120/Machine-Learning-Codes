{
 "cells": [
  {
   "cell_type": "code",
   "execution_count": 6,
   "id": "b794b57e",
   "metadata": {},
   "outputs": [],
   "source": [
    "import numpy as np \n",
    "import pandas as pd\n",
    "import seaborn as sns\n",
    "import matplotlib.pyplot as plt"
   ]
  },
  {
   "cell_type": "code",
   "execution_count": 4,
   "id": "5426fcac",
   "metadata": {},
   "outputs": [],
   "source": [
    "from keras.datasets import mnist"
   ]
  },
  {
   "cell_type": "code",
   "execution_count": 11,
   "id": "ca70820c",
   "metadata": {},
   "outputs": [],
   "source": [
    "(X_train,Y_train), (X_test, y_test)=mnist.load_data()"
   ]
  },
  {
   "cell_type": "code",
   "execution_count": 13,
   "id": "d86c9167",
   "metadata": {},
   "outputs": [
    {
     "data": {
      "text/plain": [
       "<matplotlib.image.AxesImage at 0xaa191d9bb0>"
      ]
     },
     "execution_count": 13,
     "metadata": {},
     "output_type": "execute_result"
    },
    {
     "data": {
      "image/png": "[encoded data removed]",
      "text/plain": [
       "<Figure size 432x288 with 1 Axes>"
      ]
     },
     "metadata": {
      "needs_background": "light"
     },
     "output_type": "display_data"
    }
   ],
   "source": [
    "plt.imshow(X_train[55],cmap='gray')"
   ]
  },
  {
   "cell_type": "code",
   "execution_count": 17,
   "id": "89ea6c43",
   "metadata": {},
   "outputs": [
    {
     "data": {
      "text/plain": [
       "5"
      ]
     },
     "execution_count": 17,
     "metadata": {},
     "output_type": "execute_result"
    }
   ],
   "source": [
    "y_test[53]"
   ]
  },
  {
   "cell_type": "code",
   "execution_count": 21,
   "id": "bc16bc1b",
   "metadata": {},
   "outputs": [
    {
     "name": "stdout",
     "output_type": "stream",
     "text": [
      "(60000, 28, 28)\n",
      "(60000,)\n"
     ]
    }
   ],
   "source": [
    "print(X_train.shape)\n",
    "print(Y_train.shape)"
   ]
  },
  {
   "cell_type": "code",
   "execution_count": 28,
   "id": "27ea2dd5",
   "metadata": {},
   "outputs": [],
   "source": [
    "X=X_test.reshape(-1,28*28)\n",
    "Y=y_test"
   ]
  },
  {
   "cell_type": "code",
   "execution_count": 29,
   "id": "c8986f13",
   "metadata": {},
   "outputs": [
    {
     "data": {
      "text/plain": [
       "((10000, 784), (10000,))"
      ]
     },
     "execution_count": 29,
     "metadata": {},
     "output_type": "execute_result"
    }
   ],
   "source": [
    "X.shape,Y.shape"
   ]
  },
  {
   "cell_type": "code",
   "execution_count": 30,
   "id": "936a5903",
   "metadata": {},
   "outputs": [],
   "source": [
    "from sklearn.preprocessing import StandardScaler"
   ]
  },
  {
   "cell_type": "code",
   "execution_count": 32,
   "id": "f192ffe7",
   "metadata": {},
   "outputs": [],
   "source": [
    "sc=StandardScaler()"
   ]
  },
  {
   "cell_type": "code",
   "execution_count": 33,
   "id": "fe3537eb",
   "metadata": {},
   "outputs": [],
   "source": [
    "X_=sc.fit_transform(X)"
   ]
  },
  {
   "cell_type": "code",
   "execution_count": 35,
   "id": "4fc1bade",
   "metadata": {},
   "outputs": [
    {
     "data": {
      "text/plain": [
       "<matplotlib.image.AxesImage at 0xaa4c18b880>"
      ]
     },
     "execution_count": 35,
     "metadata": {},
     "output_type": "execute_result"
    },
    {
     "data": {
      "image/png": "[encoded data removed]",
      "text/plain": [
       "<Figure size 432x288 with 1 Axes>"
      ]
     },
     "metadata": {
      "needs_background": "light"
     },
     "output_type": "display_data"
    }
   ],
   "source": [
    "plt.imshow(X_[90].reshape(28,28),cmap='gray')"
   ]
  },
  {
   "cell_type": "markdown",
   "id": "f4465564",
   "metadata": {},
   "source": [
    "# Pca Using  SKlearn Llibrary"
   ]
  },
  {
   "cell_type": "code",
   "execution_count": 37,
   "id": "d578ec63",
   "metadata": {},
   "outputs": [],
   "source": [
    "from sklearn.decomposition import PCA"
   ]
  },
  {
   "cell_type": "code",
   "execution_count": 38,
   "id": "2aa444e2",
   "metadata": {},
   "outputs": [],
   "source": [
    "pca=PCA(n_components=3)"
   ]
  },
  {
   "cell_type": "code",
   "execution_count": 39,
   "id": "c749d9e3",
   "metadata": {},
   "outputs": [],
   "source": [
    "z_pca=pca.fit_transform(X_)"
   ]
  },
  {
   "cell_type": "code",
   "execution_count": 40,
   "id": "d636f5d1",
   "metadata": {},
   "outputs": [
    {
     "data": {
      "text/plain": [
       "(10000, 3)"
      ]
     },
     "execution_count": 40,
     "metadata": {},
     "output_type": "execute_result"
    }
   ],
   "source": [
    "z_pca.shape"
   ]
  },
  {
   "cell_type": "code",
   "execution_count": 41,
   "id": "85c6ac84",
   "metadata": {},
   "outputs": [
    {
     "data": {
      "text/plain": [
       "array([[-5.45831022,  6.41437244, -4.19948382],\n",
       "       [ 2.80442763, -8.02976499, 16.18748889],\n",
       "       [-7.41124647, -3.86402028,  1.08980436],\n",
       "       ...,\n",
       "       [-5.00435106,  1.15393732, -5.01732775],\n",
       "       [-1.42087106, -4.42389331, -7.00579347],\n",
       "       [13.14268973, -4.26106643, -1.14729725]])"
      ]
     },
     "execution_count": 41,
     "metadata": {},
     "output_type": "execute_result"
    }
   ],
   "source": [
    "z_pca"
   ]
  },
  {
   "cell_type": "code",
   "execution_count": 42,
   "id": "7f459a61",
   "metadata": {},
   "outputs": [
    {
     "data": {
      "text/plain": [
       "array([41.39893398, 28.35105764, 27.01964628])"
      ]
     },
     "execution_count": 42,
     "metadata": {},
     "output_type": "execute_result"
    }
   ],
   "source": [
    "pca.explained_variance_"
   ]
  },
  {
   "cell_type": "markdown",
   "id": "e1892b34",
   "metadata": {},
   "source": [
    "## Custom Pca"
   ]
  },
  {
   "cell_type": "code",
   "execution_count": 43,
   "id": "0b7ab6c1",
   "metadata": {},
   "outputs": [],
   "source": [
    "import numpy as np"
   ]
  },
  {
   "cell_type": "code",
   "execution_count": 45,
   "id": "f57a979e",
   "metadata": {},
   "outputs": [],
   "source": [
    "#computing covariance matrix"
   ]
  },
  {
   "cell_type": "code",
   "execution_count": null,
   "id": "cb3407ed",
   "metadata": {},
   "outputs": [],
   "source": [
    "#trick =X_T*X_=(784,100000)(100000,784)=(784,784)"
   ]
  },
  {
   "cell_type": "code",
   "execution_count": 51,
   "id": "4adac6f6",
   "metadata": {},
   "outputs": [],
   "source": [
    "covariance=np.dot(X_.T,X_)"
   ]
  },
  {
   "cell_type": "code",
   "execution_count": 52,
   "id": "c4d22d38",
   "metadata": {},
   "outputs": [
    {
     "data": {
      "text/plain": [
       "(784, 784)"
      ]
     },
     "execution_count": 52,
     "metadata": {},
     "output_type": "execute_result"
    }
   ],
   "source": [
    "covariance.shape"
   ]
  },
  {
   "cell_type": "code",
   "execution_count": 53,
   "id": "4a075fa0",
   "metadata": {},
   "outputs": [
    {
     "data": {
      "text/plain": [
       "array([[0., 0., 0., ..., 0., 0., 0.],\n",
       "       [0., 0., 0., ..., 0., 0., 0.],\n",
       "       [0., 0., 0., ..., 0., 0., 0.],\n",
       "       ...,\n",
       "       [0., 0., 0., ..., 0., 0., 0.],\n",
       "       [0., 0., 0., ..., 0., 0., 0.],\n",
       "       [0., 0., 0., ..., 0., 0., 0.]])"
      ]
     },
     "execution_count": 53,
     "metadata": {},
     "output_type": "execute_result"
    }
   ],
   "source": [
    "covariance"
   ]
  },
  {
   "cell_type": "code",
   "execution_count": null,
   "id": "946b3635",
   "metadata": {},
   "outputs": [],
   "source": [
    "#step 3 = computing eigenVectors using SVD"
   ]
  },
  {
   "cell_type": "code",
   "execution_count": 55,
   "id": "6219c827",
   "metadata": {},
   "outputs": [],
   "source": [
    "from numpy.linalg import svd"
   ]
  },
  {
   "cell_type": "code",
   "execution_count": 57,
   "id": "b7422d14",
   "metadata": {},
   "outputs": [],
   "source": [
    "U,S,V=svd(covariance)"
   ]
  },
  {
   "cell_type": "code",
   "execution_count": 58,
   "id": "7c40202e",
   "metadata": {},
   "outputs": [
    {
     "data": {
      "text/plain": [
       "(784, 784)"
      ]
     },
     "execution_count": 58,
     "metadata": {},
     "output_type": "execute_result"
    }
   ],
   "source": [
    "U.shape"
   ]
  },
  {
   "cell_type": "code",
   "execution_count": 60,
   "id": "742a2e35",
   "metadata": {},
   "outputs": [],
   "source": [
    "Ureduce=U[:,:2]"
   ]
  },
  {
   "cell_type": "code",
   "execution_count": 61,
   "id": "eadc1f5b",
   "metadata": {},
   "outputs": [
    {
     "data": {
      "text/plain": [
       "(784, 2)"
      ]
     },
     "execution_count": 61,
     "metadata": {},
     "output_type": "execute_result"
    }
   ],
   "source": [
    "Ureduce.shape"
   ]
  },
  {
   "cell_type": "code",
   "execution_count": null,
   "id": "379cdb06",
   "metadata": {},
   "outputs": [],
   "source": [
    "#step 4: Projection of data on new axis(components)"
   ]
  },
  {
   "cell_type": "code",
   "execution_count": 62,
   "id": "4ecc7be5",
   "metadata": {},
   "outputs": [],
   "source": [
    "z=np.dot(X_,Ureduce)"
   ]
  },
  {
   "cell_type": "code",
   "execution_count": null,
   "id": "2af8c8d9",
   "metadata": {},
   "outputs": [],
   "source": [
    "z."
   ]
  },
  {
   "cell_type": "code",
   "execution_count": null,
   "id": "f5563872",
   "metadata": {},
   "outputs": [],
   "source": []
  }
 ],
 "metadata": {
  "kernelspec": {
   "display_name": "Python 3",
   "language": "python",
   "name": "python3"
  },
  "language_info": {
   "codemirror_mode": {
    "name": "ipython",
    "version": 3
   },
   "file_extension": ".py",
   "mimetype": "text/x-python",
   "name": "python",
   "nbconvert_exporter": "python",
   "pygments_lexer": "ipython3",
   "version": "3.9.4"
  }
 },
 "nbformat": 4,
 "nbformat_minor": 5
}
